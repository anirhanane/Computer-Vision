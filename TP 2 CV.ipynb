{
 "cells": [
  {
   "cell_type": "markdown",
   "id": "6e9a9f73",
   "metadata": {},
   "source": [
    "# TP 2 Chaînage de points de contours"
   ]
  },
  {
   "cell_type": "code",
   "execution_count": 1,
   "id": "6cde1123",
   "metadata": {},
   "outputs": [],
   "source": [
    "import numpy as np\n",
    "import matplotlib.pyplot as plt\n",
    "import pandas as pd\n",
    "import math\n",
    "from skimage import measure\n",
    "from copy import deepcopy, copy"
   ]
  },
  {
   "cell_type": "markdown",
   "id": "2f6f0398",
   "metadata": {},
   "source": [
    "### Création de l’image binaire de synthèse des points de contours"
   ]
  },
  {
   "cell_type": "code",
   "execution_count": 2,
   "id": "aeec06eb",
   "metadata": {},
   "outputs": [],
   "source": [
    "image=np.zeros((16,16))"
   ]
  },
  {
   "cell_type": "code",
   "execution_count": 3,
   "id": "677579af",
   "metadata": {},
   "outputs": [],
   "source": [
    "# On met à 1 les valeurs des pixels de contour\n",
    "image[0][10]=1                   \n",
    "image[1][11]=1\n",
    "image[2][3:6]=1\n",
    "image[2][12]=1\n",
    "image[3][2]=1\n",
    "image[3][6]=1\n",
    "image[3][13]=1\n",
    "image[4][1]=1\n",
    "image[4][6]=1\n",
    "image[4][13]=1\n",
    "image[5][1]=1\n",
    "image[5][6]=1\n",
    "image[5][13]=1\n",
    "image[6][2]=1\n",
    "image[6][6]=1\n",
    "image[6][13:15]=1\n",
    "image[7][3]=1   \n",
    "image[7][5:7]=1 \n",
    "image[7][14]=1 \n",
    "image[8][4]=1\n",
    "image[8][7]=1\n",
    "image[8][14:16]=1\n",
    "image[9][8]=1\n",
    "image[10][9]=1\n",
    "image[11][12:16]=1\n",
    "image[12][6:12]=1\n",
    "image[13][3:7]=1\n",
    "image[14][0:3]=1"
   ]
  },
  {
   "cell_type": "code",
   "execution_count": 4,
   "id": "ff05dbea",
   "metadata": {},
   "outputs": [
    {
     "data": {
      "text/plain": [
       "<matplotlib.image.AxesImage at 0x21f20b09910>"
      ]
     },
     "execution_count": 4,
     "metadata": {},
     "output_type": "execute_result"
    },
    {
     "data": {
      "image/png": "[encoded data removed]",
      "text/plain": [
       "<Figure size 432x288 with 1 Axes>"
      ]
     },
     "metadata": {
      "needs_background": "light"
     },
     "output_type": "display_data"
    }
   ],
   "source": [
    "plt.imshow(image)"
   ]
  },
  {
   "cell_type": "code",
   "execution_count": 10,
   "id": "9f84fa44",
   "metadata": {},
   "outputs": [
    {
     "data": {
      "text/plain": [
       "array([[0., 0., 0., 0., 0., 0., 0., 0., 0., 0., 1., 0., 0., 0., 0., 0.],\n",
       "       [0., 0., 0., 0., 0., 0., 0., 0., 0., 0., 0., 1., 0., 0., 0., 0.],\n",
       "       [0., 0., 0., 1., 1., 1., 0., 0., 0., 0., 0., 0., 1., 0., 0., 0.],\n",
       "       [0., 0., 1., 0., 0., 0., 1., 0., 0., 0., 0., 0., 0., 1., 0., 0.],\n",
       "       [0., 1., 0., 0., 0., 0., 1., 0., 0., 0., 0., 0., 0., 1., 0., 0.],\n",
       "       [0., 1., 0., 0., 0., 0., 1., 0., 0., 0., 0., 0., 0., 1., 0., 0.],\n",
       "       [0., 0., 1., 0., 0., 0., 1., 0., 0., 0., 0., 0., 0., 1., 1., 0.],\n",
       "       [0., 0., 0., 1., 0., 1., 1., 0., 0., 0., 0., 0., 0., 0., 1., 0.],\n",
       "       [0., 0., 0., 0., 1., 0., 0., 1., 0., 0., 0., 0., 0., 0., 1., 1.],\n",
       "       [0., 0., 0., 0., 0., 0., 0., 0., 1., 0., 0., 0., 0., 0., 0., 0.],\n",
       "       [0., 0., 0., 0., 0., 0., 0., 0., 0., 1., 0., 0., 0., 0., 0., 0.],\n",
       "       [0., 0., 0., 0., 0., 0., 0., 0., 0., 0., 0., 0., 1., 1., 1., 1.],\n",
       "       [0., 0., 0., 0., 0., 0., 1., 1., 1., 1., 1., 1., 0., 0., 0., 0.],\n",
       "       [0., 0., 0., 1., 1., 1., 1., 0., 0., 0., 0., 0., 0., 0., 0., 0.],\n",
       "       [1., 1., 1., 0., 0., 0., 0., 0., 0., 0., 0., 0., 0., 0., 0., 0.],\n",
       "       [0., 0., 0., 0., 0., 0., 0., 0., 0., 0., 0., 0., 0., 0., 0., 0.]])"
      ]
     },
     "execution_count": 10,
     "metadata": {},
     "output_type": "execute_result"
    }
   ],
   "source": [
    "image"
   ]
  },
  {
   "cell_type": "markdown",
   "id": "21177442",
   "metadata": {},
   "source": [
    "## Implantation de l'algorithme parallèle"
   ]
  },
  {
   "cell_type": "code",
   "execution_count": 6,
   "id": "53ca2a9f",
   "metadata": {},
   "outputs": [],
   "source": [
    "def algo_parallel(img):\n",
    "    idx=img.shape[0]\n",
    "    jdx=img.shape[1]\n",
    "    chaines=[]\n",
    "    ident=np.zeros((idx,jdx))\n",
    "    for i in range(idx):\n",
    "        for j in range(jdx):\n",
    "            pointsCP=[]\n",
    "            if img[i,j]==1:\n",
    "                if j!=0:\n",
    "                    if img[i,j-1]==1:\n",
    "                        pointsCP.append((i,j-1))\n",
    "                if i!=0:\n",
    "                    if img[i-1,j]==1:\n",
    "                        pointsCP.append((i-1,j))\n",
    "                    if j<jdx-1:                \n",
    "                        if img[i-1,j+1]==1:\n",
    "                            pointsCP.append((i-1,j+1))\n",
    "                    if j!=0:\n",
    "                        if img[i-1,j-1]==1:\n",
    "                            pointsCP.append((i-1,j-1))\n",
    "                        \n",
    "                #print('pointsCP ({},{})'.format(i,j),pointsCP)\n",
    "                if len(pointsCP)==0:\n",
    "                    chaines.append([(i,j)])\n",
    "                    #print(\"cas len(pointsCP)==0\", len(chaines),\" chaines\",chaines)\n",
    "                    ident[i,j]=len(chaines)\n",
    "                else:\n",
    "                    if len(pointsCP)==1:\n",
    "                        id=int(ident[pointsCP[0][0],pointsCP[0][1]])\n",
    "                        #print(\"cas len(pointsCP)==1\",chaines)\n",
    "                        #print(\"id\",id)\n",
    "                        chaines[id-1].append((i,j))\n",
    "                        #print(\"cas len(pointsCP)==1\", len(chaines),\" chaines\",chaines)\n",
    "                        ident[i,j]=id\n",
    "                        #print(ident)\n",
    "                    else:\n",
    "                        #print(\"cas len(pointsCP)>1\")\n",
    "                        ids=[]\n",
    "                        for p in pointsCP:\n",
    "                            ids.append(int(ident[p[0],p[1]]))\n",
    "                        idmin=min(ids)\n",
    "                        #print('idmin',idmin)\n",
    "                        #print(chaines)\n",
    "                        #print('len(chaines)',len(chaines))\n",
    "                        for idi in ids:\n",
    "                            \n",
    "                            if idi>idmin:\n",
    "                                #print(\"Cas fusion\")\n",
    "                                #print('idi',idi)\n",
    "                                #print(chaines)\n",
    "                                for pt in chaines[idi-1]:\n",
    "                                    ident[pt[0],pt[1]]=idmin\n",
    "                                #print('chaines[idmin-1] avant',chaines[idmin-1])\n",
    "                                chaines[idmin-1]=chaines[idmin-1]+chaines[idi-1]\n",
    "                                #print('chaines[idmin-1] aprés',chaines[idmin-1])\n",
    "                                chaines.pop(idi-1)\n",
    "                            else :\n",
    "                                if idi==idmin:\n",
    "                                    ident[i,j]=idmin\n",
    "                                    if (i,j) not in chaines[idi-1]:\n",
    "                                        chaines[idi-1].append((i,j))\n",
    "                                \n",
    "                        #print(ident)\n",
    "    return ident,chaines"
   ]
  },
  {
   "cell_type": "code",
   "execution_count": 7,
   "id": "6988fb9b",
   "metadata": {},
   "outputs": [],
   "source": [
    "imageP,chaines=algo_parallel(image)"
   ]
  },
  {
   "cell_type": "markdown",
   "id": "87a6fab6",
   "metadata": {},
   "source": [
    "####  l’image traitée avec l’algorithme parallèle proposé "
   ]
  },
  {
   "cell_type": "code",
   "execution_count": 8,
   "id": "fe12864b",
   "metadata": {},
   "outputs": [
    {
     "name": "stdout",
     "output_type": "stream",
     "text": [
      "[[0. 0. 0. 0. 0. 0. 0. 0. 0. 0. 1. 0. 0. 0. 0. 0.]\n",
      " [0. 0. 0. 0. 0. 0. 0. 0. 0. 0. 0. 1. 0. 0. 0. 0.]\n",
      " [0. 0. 0. 2. 2. 2. 0. 0. 0. 0. 0. 0. 1. 0. 0. 0.]\n",
      " [0. 0. 2. 0. 0. 0. 2. 0. 0. 0. 0. 0. 0. 1. 0. 0.]\n",
      " [0. 2. 0. 0. 0. 0. 2. 0. 0. 0. 0. 0. 0. 1. 0. 0.]\n",
      " [0. 2. 0. 0. 0. 0. 2. 0. 0. 0. 0. 0. 0. 1. 0. 0.]\n",
      " [0. 0. 2. 0. 0. 0. 2. 0. 0. 0. 0. 0. 0. 1. 1. 0.]\n",
      " [0. 0. 0. 2. 0. 2. 2. 0. 0. 0. 0. 0. 0. 0. 1. 0.]\n",
      " [0. 0. 0. 0. 2. 0. 0. 2. 0. 0. 0. 0. 0. 0. 1. 1.]\n",
      " [0. 0. 0. 0. 0. 0. 0. 0. 2. 0. 0. 0. 0. 0. 0. 0.]\n",
      " [0. 0. 0. 0. 0. 0. 0. 0. 0. 2. 0. 0. 0. 0. 0. 0.]\n",
      " [0. 0. 0. 0. 0. 0. 0. 0. 0. 0. 0. 0. 3. 3. 3. 3.]\n",
      " [0. 0. 0. 0. 0. 0. 3. 3. 3. 3. 3. 3. 0. 0. 0. 0.]\n",
      " [0. 0. 0. 3. 3. 3. 3. 0. 0. 0. 0. 0. 0. 0. 0. 0.]\n",
      " [3. 3. 3. 0. 0. 0. 0. 0. 0. 0. 0. 0. 0. 0. 0. 0.]\n",
      " [0. 0. 0. 0. 0. 0. 0. 0. 0. 0. 0. 0. 0. 0. 0. 0.]]\n"
     ]
    }
   ],
   "source": [
    "print(imageP)"
   ]
  },
  {
   "cell_type": "markdown",
   "id": "87b38efa",
   "metadata": {},
   "source": [
    "#### La structure des contours (la liste chaînée de listes de points de contours) après avoir traité l’image avec l’algorithme parallèle proposé "
   ]
  },
  {
   "cell_type": "code",
   "execution_count": 9,
   "id": "25396d6d",
   "metadata": {},
   "outputs": [
    {
     "data": {
      "text/plain": [
       "[[(0, 10),\n",
       "  (1, 11),\n",
       "  (2, 12),\n",
       "  (3, 13),\n",
       "  (4, 13),\n",
       "  (5, 13),\n",
       "  (6, 13),\n",
       "  (6, 14),\n",
       "  (7, 14),\n",
       "  (8, 14),\n",
       "  (8, 15)],\n",
       " [(2, 3),\n",
       "  (2, 4),\n",
       "  (2, 5),\n",
       "  (3, 2),\n",
       "  (3, 6),\n",
       "  (4, 1),\n",
       "  (4, 6),\n",
       "  (5, 1),\n",
       "  (5, 6),\n",
       "  (6, 2),\n",
       "  (6, 6),\n",
       "  (7, 3),\n",
       "  (7, 5),\n",
       "  (7, 6),\n",
       "  (8, 4),\n",
       "  (8, 7),\n",
       "  (9, 8),\n",
       "  (10, 9)],\n",
       " [(11, 12),\n",
       "  (11, 13),\n",
       "  (11, 14),\n",
       "  (11, 15),\n",
       "  (12, 6),\n",
       "  (12, 7),\n",
       "  (12, 8),\n",
       "  (12, 9),\n",
       "  (12, 10),\n",
       "  (12, 11),\n",
       "  (13, 3),\n",
       "  (13, 4),\n",
       "  (13, 5),\n",
       "  (13, 6),\n",
       "  (14, 0),\n",
       "  (14, 1),\n",
       "  (14, 2)]]"
      ]
     },
     "execution_count": 9,
     "metadata": {},
     "output_type": "execute_result"
    }
   ],
   "source": [
    "chaines"
   ]
  },
  {
   "cell_type": "markdown",
   "id": "8d5f8734",
   "metadata": {},
   "source": [
    "#### Visualisation de la ségmentaion des contours à travers l’algorithme parallèle proposé :l’image finale des étiquettes (numéros) de contours (càd. les points de contours sont remplacés par le numéro de contour auquel ils appartiennent)"
   ]
  },
  {
   "cell_type": "code",
   "execution_count": 11,
   "id": "023e092b",
   "metadata": {},
   "outputs": [
    {
     "data": {
      "text/plain": [
       "<matplotlib.image.AxesImage at 0x21f21be5790>"
      ]
     },
     "execution_count": 11,
     "metadata": {},
     "output_type": "execute_result"
    },
    {
     "data": {
      "image/png": "[encoded data removed]",
      "text/plain": [
       "<Figure size 432x288 with 1 Axes>"
      ]
     },
     "metadata": {
      "needs_background": "light"
     },
     "output_type": "display_data"
    }
   ],
   "source": [
    "plt.imshow(imageP,cmap='jet')  "
   ]
  },
  {
   "cell_type": "markdown",
   "id": "8fa05ce0",
   "metadata": {},
   "source": [
    "#### Implémentation du code freeman"
   ]
  },
  {
   "cell_type": "code",
   "execution_count": 12,
   "id": "8c92e533",
   "metadata": {},
   "outputs": [],
   "source": [
    " def encode_freeman(chaine):\n",
    "\n",
    "        image_copy = copy(chaine)\n",
    "        freeman_code = \"\"\n",
    "        ALLOWED_DIRECTIONS = np.array([0, 45, 90, 135, 180, -45, -90, -135])\n",
    "        \n",
    "        for i in range(len(image_copy) - 1):\n",
    "            delta_x = image_copy[i+1][0] - image_copy[i][0] \n",
    "            delta_y = image_copy[i+1][1] - image_copy[i][1]\n",
    "            angle = math.degrees(math.atan2(delta_y,delta_x))\n",
    "            idx = (np.abs(ALLOWED_DIRECTIONS-angle)).argmin()\n",
    "            angle =ALLOWED_DIRECTIONS[idx]\n",
    "            \n",
    "            \n",
    "            if delta_x == 0 and delta_y == 0:\n",
    "                pass\n",
    "            elif delta_x > 0 and delta_y == 0:\n",
    "                freeman_code += '2'\n",
    "            elif delta_x < 0 and delta_y == 0:\n",
    "                freeman_code += '6'\n",
    "            elif delta_x == 0 and delta_y > 0:\n",
    "                freeman_code += '4'\n",
    "            elif delta_x == 0 and delta_y < 0:\n",
    "                freeman_code += '0'\n",
    "            elif delta_x > 0 and delta_y > 0:\n",
    "                freeman_code += '3'\n",
    "            elif delta_x > 0 and delta_y < 0:\n",
    "                freeman_code += '1'\n",
    "            elif delta_x < 0 and delta_y > 0:\n",
    "                freeman_code += '5'\n",
    "            elif delta_x < 0 and delta_y < 0:\n",
    "                freeman_code += '7'    \n",
    "                \n",
    "        \n",
    "        return freeman_code"
   ]
  },
  {
   "cell_type": "code",
   "execution_count": 30,
   "id": "6f247903",
   "metadata": {},
   "outputs": [
    {
     "name": "stdout",
     "output_type": "stream",
     "text": [
      "FreeMan Code : Contour 1 commencement :(0, 10) 7776660660  Contour 2 commencement (10, 9) : 333222234455677710  Contour 3 commencement (14, 0) : 0010002000001000\n"
     ]
    }
   ],
   "source": [
    "print('FreeMan Code : Contour 1 commencement :(0, 10)','7776660660' ,' Contour 2 commencement (10, 9) :','333222234455677710' ,' Contour 3 commencement (14, 0) :','0010002000001000' )"
   ]
  },
  {
   "cell_type": "markdown",
   "id": "f4df7616",
   "metadata": {},
   "source": [
    "### Par rapport au codage de l'algorithme parallèle, c'est la partie fusion qui a été un petit peu délicate à coder. En déroulant l'algo à plusieurs reprises et tracer les différentes actions, l'algo a été finalement conçu et a donné les résultats escomptés."
   ]
  },
  {
   "cell_type": "markdown",
   "id": "d446bfa8",
   "metadata": {},
   "source": [
    "## Objectif du TP"
   ]
  },
  {
   "cell_type": "markdown",
   "id": "3246b5d4",
   "metadata": {},
   "source": [
    "#### L' étape de Chaînage des contours permet de représenter l'image des étiquettes des points de contours. Chaque pixel est affecté à un numéro du contour auquel il appartient, ou de la valeur zéro s'il n'appartient à aucun contour. Par conséquent, tous les pixels d'un même contour apparaissent de la même couleur dans l'image résultante. On peut conclure que cette opération nous permet de faire une ségmentation des points de contours.\n",
    "#### Le code de Freeman permet de coder un contour chaîné en ne stockant que l’ensemble des déplacements relatifs entre pixels voisins. Pour obtenir le code Freeman nous nous sommes basées sur la liste des chaînes obtenues en appliquant l'algorithme parallèle."
   ]
  }
 ],
 "metadata": {
  "kernelspec": {
   "display_name": "Python 3",
   "language": "python",
   "name": "python3"
  },
  "language_info": {
   "codemirror_mode": {
    "name": "ipython",
    "version": 3
   },
   "file_extension": ".py",
   "mimetype": "text/x-python",
   "name": "python",
   "nbconvert_exporter": "python",
   "pygments_lexer": "ipython3",
   "version": "3.8.8"
  }
 },
 "nbformat": 4,
 "nbformat_minor": 5
}
